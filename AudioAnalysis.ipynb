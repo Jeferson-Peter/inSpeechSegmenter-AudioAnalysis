{
  "cells": [
    {
      "cell_type": "markdown",
      "metadata": {
        "id": "view-in-github",
        "colab_type": "text"
      },
      "source": [
        "<a href=\"https://colab.research.google.com/github/Jeferson-Peter/inSpeechSegmenter-AudioAnalysis/blob/master/AudioAnalysis.ipynb\" target=\"_parent\"><img src=\"https://colab.research.google.com/assets/colab-badge.svg\" alt=\"Open In Colab\"/></a>"
      ]
    },
    {
      "cell_type": "markdown",
      "source": [
        "# Audio Analysis\n"
      ],
      "metadata": {
        "id": "6gG-Xb2-25KZ"
      }
    },
    {
      "cell_type": "markdown",
      "source": [
        "## Instalando bibliotecas"
      ],
      "metadata": {
        "id": "Non4LUts3B0v"
      }
    },
    {
      "cell_type": "code",
      "execution_count": null,
      "metadata": {
        "id": "fNVuGwrMjrsb"
      },
      "outputs": [],
      "source": [
        "!pip install ffmpeg-python\n",
        "!sudo apt-get install -y ffmpeg \n",
        "!pip install pydub\n",
        "!pip install inaSpeechSegmenter\n",
        "!pip install pyAudioAnalysis\n",
        "!pip install eyed3\n",
        "!pip install hmmlearn\n",
        "!pip install SpeechRecognition"
      ]
    },
    {
      "cell_type": "markdown",
      "source": [
        "## Importando bibliotecas"
      ],
      "metadata": {
        "id": "DlXWy-cT3G_0"
      }
    },
    {
      "cell_type": "code",
      "execution_count": 2,
      "metadata": {
        "id": "CYxxCnhHuwlR"
      },
      "outputs": [],
      "source": [
        "import numpy as np\n",
        "import IPython\n",
        "from inaSpeechSegmenter import Segmenter\n",
        "from inaSpeechSegmenter.export_funcs import seg2csv, seg2textgrid\n",
        "from pydub import AudioSegment\n",
        "import speech_recognition as sr\n",
        "import sys"
      ]
    },
    {
      "cell_type": "code",
      "source": [
        "from google.colab import drive\n",
        "drive.mount('/content/drive')"
      ],
      "metadata": {
        "id": "ya1GNhSmEX6u",
        "outputId": "7aaa1450-86a0-4d03-e733-57abccfb7e54",
        "colab": {
          "base_uri": "https://localhost:8080/"
        }
      },
      "execution_count": 3,
      "outputs": [
        {
          "output_type": "stream",
          "name": "stdout",
          "text": [
            "Drive already mounted at /content/drive; to attempt to forcibly remount, call drive.mount(\"/content/drive\", force_remount=True).\n"
          ]
        }
      ]
    },
    {
      "cell_type": "code",
      "source": [
        "import os\n",
        "print(os.path)"
      ],
      "metadata": {
        "id": "thWOy4UcEgAm"
      },
      "execution_count": 4,
      "outputs": []
    },
    {
      "cell_type": "markdown",
      "source": [
        "## Tratamento do aúdio"
      ],
      "metadata": {
        "id": "tlDWOkdD3LYc"
      }
    },
    {
      "cell_type": "code",
      "execution_count": 5,
      "metadata": {
        "id": "O_FSFybJySVL"
      },
      "outputs": [],
      "source": [
        "IPython.display.display(IPython.display.Audio(\"18copy.wav\"))"
      ]
    },
    {
      "cell_type": "code",
      "execution_count": 6,
      "metadata": {
        "id": "KJwOHoPxDR3i"
      },
      "outputs": [],
      "source": [
        "input_media = '18copy.wav'\n",
        "output_media = '18copy_cleaned.wav'\n",
        "output_path = 'audios_extracted'"
      ]
    },
    {
      "cell_type": "markdown",
      "source": [
        "Buscando momentos de silência e ruído"
      ],
      "metadata": {
        "id": "8Whg9ltU3SPo"
      }
    },
    {
      "cell_type": "code",
      "execution_count": 7,
      "metadata": {
        "colab": {
          "base_uri": "https://localhost:8080/"
        },
        "id": "jkjTRf44D2T5",
        "outputId": "5f4555d4-0621-43eb-de5d-ba08c6b2cc5e"
      },
      "outputs": [
        {
          "output_type": "stream",
          "name": "stdout",
          "text": [
            "Downloading data from https://github.com/ina-foss/inaSpeechSegmenter/releases/download/models/keras_speech_music_noise_cnn.hdf5\n",
            "3244808/3244808 [==============================] - 0s 0us/step\n",
            "Downloading data from https://github.com/ina-foss/inaSpeechSegmenter/releases/download/models/keras_male_female_cnn.hdf5\n",
            "6040200/6040200 [==============================] - 0s 0us/step\n"
          ]
        },
        {
          "output_type": "stream",
          "name": "stderr",
          "text": [
            "/usr/local/lib/python3.8/dist-packages/pyannote/algorithms/utils/viterbi.py:86: FutureWarning: arrays to stack must be passed as a \"sequence\" type such as list or tuple. Support for non-sequence iterables such as generators is deprecated as of NumPy 1.16 and will raise an error in the future.\n",
            "  return np.vstack(\n",
            "/usr/local/lib/python3.8/dist-packages/pyannote/algorithms/utils/viterbi.py:95: FutureWarning: arrays to stack must be passed as a \"sequence\" type such as list or tuple. Support for non-sequence iterables such as generators is deprecated as of NumPy 1.16 and will raise an error in the future.\n",
            "  return np.vstack(\n",
            "/usr/local/lib/python3.8/dist-packages/inaSpeechSegmenter/segmenter.py:61: RuntimeWarning: invalid value encountered in subtract\n",
            "  data = (data - np.mean(data, axis=1).reshape((len(data), 1))) / np.std(data, axis=1).reshape((len(data), 1))\n",
            "/usr/local/lib/python3.8/dist-packages/numpy/core/_methods.py:230: RuntimeWarning: invalid value encountered in subtract\n",
            "  x = asanyarray(arr - arrmean)\n"
          ]
        },
        {
          "output_type": "stream",
          "name": "stdout",
          "text": [
            "970/970 [==============================] - 42s 42ms/step\n",
            "719/719 [==============================] - 148s 206ms/step\n"
          ]
        }
      ],
      "source": [
        "seg = Segmenter()\n",
        "segmentation = seg(input_media)"
      ]
    },
    {
      "cell_type": "code",
      "execution_count": 8,
      "metadata": {
        "id": "Rjnh3vt5EcOe",
        "colab": {
          "base_uri": "https://localhost:8080/"
        },
        "outputId": "3986b8ba-d6ad-4d1a-8a13-8bc8c181aef6"
      },
      "outputs": [
        {
          "output_type": "stream",
          "name": "stdout",
          "text": [
            "[('female', 0.0, 1.46), ('noEnergy', 1.46, 2.56), ('male', 2.56, 49.9), ('noise', 49.9, 70.62), ('male', 70.62, 84.16), ('noise', 84.16, 90.66), ('male', 90.66, 104.68), ('noise', 104.68, 107.4), ('male', 107.4, 109.92), ('noise', 109.92, 137.8), ('male', 137.8, 160.44), ('noise', 160.44, 164.12), ('male', 164.12, 168.64000000000001), ('noise', 168.64000000000001, 190.44), ('male', 190.44, 240.08), ('noise', 240.08, 241.82), ('male', 241.82, 252.48000000000002), ('noise', 252.48000000000002, 255.66), ('male', 255.66, 270.42), ('noise', 270.42, 294.64), ('male', 294.64, 333.7), ('noise', 333.7, 335.76), ('male', 335.76, 338.28000000000003), ('noise', 338.28000000000003, 340.86), ('male', 340.86, 348.3), ('noise', 348.3, 360.74), ('male', 360.74, 376.96), ('noise', 376.96, 379.76), ('male', 379.76, 381.16), ('noise', 381.16, 386.62), ('male', 386.62, 433.54), ('noise', 433.54, 438.16), ('male', 438.16, 485.02), ('noise', 485.02, 488.56), ('male', 488.56, 494.02000000000004), ('noise', 494.02000000000004, 498.76), ('male', 498.76, 537.6800000000001), ('noise', 537.6800000000001, 539.76), ('male', 539.76, 549.38), ('noise', 549.38, 553.9), ('male', 553.9, 582.78), ('noise', 582.78, 584.28), ('male', 584.28, 587.88), ('noise', 587.88, 589.24), ('male', 589.24, 621.32), ('noEnergy', 621.32, 621.7)]\n"
          ]
        }
      ],
      "source": [
        "print(segmentation)"
      ]
    },
    {
      "cell_type": "markdown",
      "source": [
        "Gerando um csv destes dados"
      ],
      "metadata": {
        "id": "_L4BMMza3X18"
      }
    },
    {
      "cell_type": "code",
      "execution_count": 9,
      "metadata": {
        "id": "-58vAQ77FlBJ"
      },
      "outputs": [],
      "source": [
        "seg2csv(segmentation, 'myseg.csv')\n",
        "# Here is the resulting CSV\n",
        "# !cat myseg.csv"
      ]
    },
    {
      "cell_type": "markdown",
      "source": [
        "Realizando um filtro, para eliminar momentos de silêncio e ruído"
      ],
      "metadata": {
        "id": "ih8eJ-Nv3bEy"
      }
    },
    {
      "cell_type": "code",
      "execution_count": 10,
      "metadata": {
        "id": "I-4pU7dsFmux",
        "colab": {
          "base_uri": "https://localhost:8080/",
          "height": 771
        },
        "outputId": "b837fe78-e0cb-4c08-bd3f-fd54558c97ad"
      },
      "outputs": [
        {
          "output_type": "display_data",
          "data": {
            "text/plain": [
              "    labels   start    stop\n",
              "0   female    0.00    1.46\n",
              "1     male    2.56   49.90\n",
              "2     male   70.62   84.16\n",
              "3     male   90.66  104.68\n",
              "4     male  107.40  109.92\n",
              "5     male  137.80  160.44\n",
              "6     male  164.12  168.64\n",
              "7     male  190.44  240.08\n",
              "8     male  241.82  252.48\n",
              "9     male  255.66  270.42\n",
              "10    male  294.64  333.70\n",
              "11    male  335.76  338.28\n",
              "12    male  340.86  348.30\n",
              "13    male  360.74  376.96\n",
              "14    male  379.76  381.16\n",
              "15    male  386.62  433.54\n",
              "16    male  438.16  485.02\n",
              "17    male  488.56  494.02\n",
              "18    male  498.76  537.68\n",
              "19    male  539.76  549.38\n",
              "20    male  553.90  582.78\n",
              "21    male  584.28  587.88\n",
              "22    male  589.24  621.32"
            ],
            "text/html": [
              "\n",
              "  <div id=\"df-f186197d-d97f-487b-86a6-3ee10b460a6e\">\n",
              "    <div class=\"colab-df-container\">\n",
              "      <div>\n",
              "<style scoped>\n",
              "    .dataframe tbody tr th:only-of-type {\n",
              "        vertical-align: middle;\n",
              "    }\n",
              "\n",
              "    .dataframe tbody tr th {\n",
              "        vertical-align: top;\n",
              "    }\n",
              "\n",
              "    .dataframe thead th {\n",
              "        text-align: right;\n",
              "    }\n",
              "</style>\n",
              "<table border=\"1\" class=\"dataframe\">\n",
              "  <thead>\n",
              "    <tr style=\"text-align: right;\">\n",
              "      <th></th>\n",
              "      <th>labels</th>\n",
              "      <th>start</th>\n",
              "      <th>stop</th>\n",
              "    </tr>\n",
              "  </thead>\n",
              "  <tbody>\n",
              "    <tr>\n",
              "      <th>0</th>\n",
              "      <td>female</td>\n",
              "      <td>0.00</td>\n",
              "      <td>1.46</td>\n",
              "    </tr>\n",
              "    <tr>\n",
              "      <th>1</th>\n",
              "      <td>male</td>\n",
              "      <td>2.56</td>\n",
              "      <td>49.90</td>\n",
              "    </tr>\n",
              "    <tr>\n",
              "      <th>2</th>\n",
              "      <td>male</td>\n",
              "      <td>70.62</td>\n",
              "      <td>84.16</td>\n",
              "    </tr>\n",
              "    <tr>\n",
              "      <th>3</th>\n",
              "      <td>male</td>\n",
              "      <td>90.66</td>\n",
              "      <td>104.68</td>\n",
              "    </tr>\n",
              "    <tr>\n",
              "      <th>4</th>\n",
              "      <td>male</td>\n",
              "      <td>107.40</td>\n",
              "      <td>109.92</td>\n",
              "    </tr>\n",
              "    <tr>\n",
              "      <th>5</th>\n",
              "      <td>male</td>\n",
              "      <td>137.80</td>\n",
              "      <td>160.44</td>\n",
              "    </tr>\n",
              "    <tr>\n",
              "      <th>6</th>\n",
              "      <td>male</td>\n",
              "      <td>164.12</td>\n",
              "      <td>168.64</td>\n",
              "    </tr>\n",
              "    <tr>\n",
              "      <th>7</th>\n",
              "      <td>male</td>\n",
              "      <td>190.44</td>\n",
              "      <td>240.08</td>\n",
              "    </tr>\n",
              "    <tr>\n",
              "      <th>8</th>\n",
              "      <td>male</td>\n",
              "      <td>241.82</td>\n",
              "      <td>252.48</td>\n",
              "    </tr>\n",
              "    <tr>\n",
              "      <th>9</th>\n",
              "      <td>male</td>\n",
              "      <td>255.66</td>\n",
              "      <td>270.42</td>\n",
              "    </tr>\n",
              "    <tr>\n",
              "      <th>10</th>\n",
              "      <td>male</td>\n",
              "      <td>294.64</td>\n",
              "      <td>333.70</td>\n",
              "    </tr>\n",
              "    <tr>\n",
              "      <th>11</th>\n",
              "      <td>male</td>\n",
              "      <td>335.76</td>\n",
              "      <td>338.28</td>\n",
              "    </tr>\n",
              "    <tr>\n",
              "      <th>12</th>\n",
              "      <td>male</td>\n",
              "      <td>340.86</td>\n",
              "      <td>348.30</td>\n",
              "    </tr>\n",
              "    <tr>\n",
              "      <th>13</th>\n",
              "      <td>male</td>\n",
              "      <td>360.74</td>\n",
              "      <td>376.96</td>\n",
              "    </tr>\n",
              "    <tr>\n",
              "      <th>14</th>\n",
              "      <td>male</td>\n",
              "      <td>379.76</td>\n",
              "      <td>381.16</td>\n",
              "    </tr>\n",
              "    <tr>\n",
              "      <th>15</th>\n",
              "      <td>male</td>\n",
              "      <td>386.62</td>\n",
              "      <td>433.54</td>\n",
              "    </tr>\n",
              "    <tr>\n",
              "      <th>16</th>\n",
              "      <td>male</td>\n",
              "      <td>438.16</td>\n",
              "      <td>485.02</td>\n",
              "    </tr>\n",
              "    <tr>\n",
              "      <th>17</th>\n",
              "      <td>male</td>\n",
              "      <td>488.56</td>\n",
              "      <td>494.02</td>\n",
              "    </tr>\n",
              "    <tr>\n",
              "      <th>18</th>\n",
              "      <td>male</td>\n",
              "      <td>498.76</td>\n",
              "      <td>537.68</td>\n",
              "    </tr>\n",
              "    <tr>\n",
              "      <th>19</th>\n",
              "      <td>male</td>\n",
              "      <td>539.76</td>\n",
              "      <td>549.38</td>\n",
              "    </tr>\n",
              "    <tr>\n",
              "      <th>20</th>\n",
              "      <td>male</td>\n",
              "      <td>553.90</td>\n",
              "      <td>582.78</td>\n",
              "    </tr>\n",
              "    <tr>\n",
              "      <th>21</th>\n",
              "      <td>male</td>\n",
              "      <td>584.28</td>\n",
              "      <td>587.88</td>\n",
              "    </tr>\n",
              "    <tr>\n",
              "      <th>22</th>\n",
              "      <td>male</td>\n",
              "      <td>589.24</td>\n",
              "      <td>621.32</td>\n",
              "    </tr>\n",
              "  </tbody>\n",
              "</table>\n",
              "</div>\n",
              "      <button class=\"colab-df-convert\" onclick=\"convertToInteractive('df-f186197d-d97f-487b-86a6-3ee10b460a6e')\"\n",
              "              title=\"Convert this dataframe to an interactive table.\"\n",
              "              style=\"display:none;\">\n",
              "        \n",
              "  <svg xmlns=\"http://www.w3.org/2000/svg\" height=\"24px\"viewBox=\"0 0 24 24\"\n",
              "       width=\"24px\">\n",
              "    <path d=\"M0 0h24v24H0V0z\" fill=\"none\"/>\n",
              "    <path d=\"M18.56 5.44l.94 2.06.94-2.06 2.06-.94-2.06-.94-.94-2.06-.94 2.06-2.06.94zm-11 1L8.5 8.5l.94-2.06 2.06-.94-2.06-.94L8.5 2.5l-.94 2.06-2.06.94zm10 10l.94 2.06.94-2.06 2.06-.94-2.06-.94-.94-2.06-.94 2.06-2.06.94z\"/><path d=\"M17.41 7.96l-1.37-1.37c-.4-.4-.92-.59-1.43-.59-.52 0-1.04.2-1.43.59L10.3 9.45l-7.72 7.72c-.78.78-.78 2.05 0 2.83L4 21.41c.39.39.9.59 1.41.59.51 0 1.02-.2 1.41-.59l7.78-7.78 2.81-2.81c.8-.78.8-2.07 0-2.86zM5.41 20L4 18.59l7.72-7.72 1.47 1.35L5.41 20z\"/>\n",
              "  </svg>\n",
              "      </button>\n",
              "      \n",
              "  <style>\n",
              "    .colab-df-container {\n",
              "      display:flex;\n",
              "      flex-wrap:wrap;\n",
              "      gap: 12px;\n",
              "    }\n",
              "\n",
              "    .colab-df-convert {\n",
              "      background-color: #E8F0FE;\n",
              "      border: none;\n",
              "      border-radius: 50%;\n",
              "      cursor: pointer;\n",
              "      display: none;\n",
              "      fill: #1967D2;\n",
              "      height: 32px;\n",
              "      padding: 0 0 0 0;\n",
              "      width: 32px;\n",
              "    }\n",
              "\n",
              "    .colab-df-convert:hover {\n",
              "      background-color: #E2EBFA;\n",
              "      box-shadow: 0px 1px 2px rgba(60, 64, 67, 0.3), 0px 1px 3px 1px rgba(60, 64, 67, 0.15);\n",
              "      fill: #174EA6;\n",
              "    }\n",
              "\n",
              "    [theme=dark] .colab-df-convert {\n",
              "      background-color: #3B4455;\n",
              "      fill: #D2E3FC;\n",
              "    }\n",
              "\n",
              "    [theme=dark] .colab-df-convert:hover {\n",
              "      background-color: #434B5C;\n",
              "      box-shadow: 0px 1px 3px 1px rgba(0, 0, 0, 0.15);\n",
              "      filter: drop-shadow(0px 1px 2px rgba(0, 0, 0, 0.3));\n",
              "      fill: #FFFFFF;\n",
              "    }\n",
              "  </style>\n",
              "\n",
              "      <script>\n",
              "        const buttonEl =\n",
              "          document.querySelector('#df-f186197d-d97f-487b-86a6-3ee10b460a6e button.colab-df-convert');\n",
              "        buttonEl.style.display =\n",
              "          google.colab.kernel.accessAllowed ? 'block' : 'none';\n",
              "\n",
              "        async function convertToInteractive(key) {\n",
              "          const element = document.querySelector('#df-f186197d-d97f-487b-86a6-3ee10b460a6e');\n",
              "          const dataTable =\n",
              "            await google.colab.kernel.invokeFunction('convertToInteractive',\n",
              "                                                     [key], {});\n",
              "          if (!dataTable) return;\n",
              "\n",
              "          const docLinkHtml = 'Like what you see? Visit the ' +\n",
              "            '<a target=\"_blank\" href=https://colab.research.google.com/notebooks/data_table.ipynb>data table notebook</a>'\n",
              "            + ' to learn more about interactive tables.';\n",
              "          element.innerHTML = '';\n",
              "          dataTable['output_type'] = 'display_data';\n",
              "          await google.colab.output.renderOutput(dataTable, element);\n",
              "          const docLink = document.createElement('div');\n",
              "          docLink.innerHTML = docLinkHtml;\n",
              "          element.appendChild(docLink);\n",
              "        }\n",
              "      </script>\n",
              "    </div>\n",
              "  </div>\n",
              "  "
            ]
          },
          "metadata": {}
        }
      ],
      "source": [
        "import pandas as pd\n",
        "df = pd.read_csv('myseg.csv', sep='\\t')\n",
        "df = df[(df['labels'] != 'noEnergy' ) & (df['labels'] != 'noise')]\n",
        "df = df.reset_index(drop=True)\n",
        "display(df)"
      ]
    },
    {
      "cell_type": "markdown",
      "source": [
        "Criar aúdios a partir dos intervalos de tempo filtrados"
      ],
      "metadata": {
        "id": "AklMC1Mu3h0H"
      }
    },
    {
      "cell_type": "code",
      "execution_count": 11,
      "metadata": {
        "id": "NYb-70UiGR9-",
        "outputId": "852e6edf-9151-49e8-ddfc-99c1fca4dce3",
        "colab": {
          "base_uri": "https://localhost:8080/"
        }
      },
      "outputs": [
        {
          "output_type": "stream",
          "name": "stdout",
          "text": [
            "output_file: _18copy_0.wav created\n",
            "output_file: _18copy_1.wav created\n",
            "output_file: _18copy_2.wav created\n",
            "output_file: _18copy_3.wav created\n",
            "output_file: _18copy_4.wav created\n",
            "output_file: _18copy_5.wav created\n",
            "output_file: _18copy_6.wav created\n",
            "output_file: _18copy_7.wav created\n",
            "output_file: _18copy_8.wav created\n",
            "output_file: _18copy_9.wav created\n",
            "output_file: _18copy_10.wav created\n",
            "output_file: _18copy_11.wav created\n",
            "output_file: _18copy_12.wav created\n",
            "output_file: _18copy_13.wav created\n",
            "output_file: _18copy_14.wav created\n",
            "output_file: _18copy_15.wav created\n",
            "output_file: _18copy_16.wav created\n",
            "output_file: _18copy_17.wav created\n",
            "output_file: _18copy_18.wav created\n",
            "output_file: _18copy_19.wav created\n",
            "output_file: _18copy_20.wav created\n",
            "output_file: _18copy_21.wav created\n",
            "output_file: _18copy_22.wav created\n"
          ]
        }
      ],
      "source": [
        "from pydub import AudioSegment\n",
        "import os\n",
        "def cut_audio_from_wav(input_path, file_name, start, end, output_path, output_file):\n",
        "  if not os.path.exists(output_path):\n",
        "    os.makedirs(output_path)\n",
        "\n",
        "  startSec = start * 1000\n",
        "  endSec = end * 1000\n",
        "  # Opening file and extracting segment\n",
        "  song = AudioSegment.from_wav(input_path + file_name)\n",
        "  extract = song[startSec:endSec]\n",
        "  # Saving\n",
        "  extract.export(f\"{output_path}/{output_file}\", format=\"wav\")\n",
        "\n",
        "with open('extract_audios.txt', 'w', encoding='utf-8') as  arq:\n",
        "  total_lines = df.shape[0] -1\n",
        "  for index, row in df.iterrows():\n",
        "    try:\n",
        "      \n",
        "      output_file = f\"_18copy_{index}.wav\"\n",
        "      cut_audio_from_wav('', '18copy.wav', row['start'], row['stop'],output_path, output_file)\n",
        "      if index == total_lines:\n",
        "        arq.write(f\"file '{output_path}/{output_file}'\")\n",
        "      else:\n",
        "        arq.write(f\"file '{output_path}/{output_file}'\\n\")\n",
        "      print(f'output_file: {output_file} created')\n",
        "    except Exception as e:\n",
        "      print(e)\n",
        "\n"
      ]
    },
    {
      "cell_type": "markdown",
      "source": [
        "Leitura do arquivo txt gerado, ele irá concatenar todos os aúdios filtrados"
      ],
      "metadata": {
        "id": "aKA-_kpr3o2L"
      }
    },
    {
      "cell_type": "code",
      "execution_count": 12,
      "metadata": {
        "id": "8sE7RkB7fvj1",
        "colab": {
          "base_uri": "https://localhost:8080/"
        },
        "outputId": "4a0e44af-f877-4776-b6cc-8b7038d13bb4"
      },
      "outputs": [
        {
          "output_type": "stream",
          "name": "stdout",
          "text": [
            "File 18copy_cleaned.wav successfully created\n"
          ]
        }
      ],
      "source": [
        "import subprocess\n",
        "txt_full_directory='extract_audios.txt'\n",
        "\n",
        "# cmdargs = \"ffmpeg -f concat -safe 0 -i \" + txt_full_directory + \" -c copy \" + f\"{output_media}\"\n",
        "cmd_args = f\"ffmpeg -f concat -safe 0 -i {txt_full_directory} -c copy {output_media}\"\n",
        "# subprocess.run() will allow the process to end before creating a new one\n",
        "try:\n",
        "  subprocess.run(cmd_args, check=True, shell=True)\n",
        "  print(f\"File {output_media} successfully created\")\n",
        "except Exception as e:\n",
        "  print(e)"
      ]
    },
    {
      "cell_type": "markdown",
      "source": [
        "## Transcrição do Aúdio\n"
      ],
      "metadata": {
        "id": "7jz5-O3V3vtd"
      }
    },
    {
      "cell_type": "code",
      "execution_count": 13,
      "metadata": {
        "id": "lWxO0bkBvB0_",
        "colab": {
          "base_uri": "https://localhost:8080/"
        },
        "outputId": "9817872f-fade-4934-a902-ec819928c280"
      },
      "outputs": [
        {
          "output_type": "stream",
          "name": "stdout",
          "text": [
            "<speech_recognition.AudioData object at 0x7fa06bc32790>\n",
            "result2:\n",
            "{   'alternative': [   {   'confidence': 0.87411845,\n",
            "                           'transcript': 'atendimento ficar boa tarde Gabriel '\n",
            "                                         'com quem eu falo tudo bom você fala '\n",
            "                                         'com as meninas tudo bem Como é que '\n",
            "                                         'eu faço para te ajudando hoje'},\n",
            "                       {   'transcript': 'atendimento ficar boa tarde Gabriel '\n",
            "                                         'com quem eu falo tudo bom você fala '\n",
            "                                         'com as meninas tudo bem Como é que '\n",
            "                                         'eu faço para ter dado hoje'},\n",
            "                       {   'transcript': 'atendimento ficar boa tarde Gabriela '\n",
            "                                         'com quem eu falo tudo bom você fala '\n",
            "                                         'com as meninas tudo bem Como é que '\n",
            "                                         'eu faço para te ajudando hoje'},\n",
            "                       {   'transcript': 'atendimento ficar boa tarde Gabriel '\n",
            "                                         'com quem eu falo tudo bom com você '\n",
            "                                         'fala com as meninas tudo bem Como é '\n",
            "                                         'que eu faço para te ajudando hoje'},\n",
            "                       {   'transcript': 'atendimento ficar boa tarde Gabriela '\n",
            "                                         'com quem eu falo tudo bom você fala '\n",
            "                                         'com as meninas tudo bem Como é que '\n",
            "                                         'eu faço para ter dado hoje'}],\n",
            "    'final': True}\n"
          ]
        }
      ],
      "source": [
        "r = sr.Recognizer()\n",
        "with sr.AudioFile(output_media) as source:\n",
        "   audio_text = r.record(source)\n",
        "   print(audio_text)\n",
        "   text = r.recognize_google(audio_text,language='pt-BR')"
      ]
    },
    {
      "cell_type": "code",
      "execution_count": 14,
      "metadata": {
        "id": "-rOWxfcqvVrr",
        "colab": {
          "base_uri": "https://localhost:8080/",
          "height": 35
        },
        "outputId": "9694c2a6-8098-4f93-d877-768f67b1194e"
      },
      "outputs": [
        {
          "output_type": "execute_result",
          "data": {
            "text/plain": [
              "'atendimento ficar boa tarde Gabriel com quem eu falo tudo bom você fala com as meninas tudo bem Como é que eu faço para te ajudando hoje'"
            ],
            "application/vnd.google.colaboratory.intrinsic+json": {
              "type": "string"
            }
          },
          "metadata": {},
          "execution_count": 14
        }
      ],
      "source": [
        "text"
      ]
    },
    {
      "cell_type": "code",
      "execution_count": 15,
      "metadata": {
        "id": "uLlgnAzDvHXJ"
      },
      "outputs": [],
      "source": [
        "with open(f'{output_media}_trancribed.txt', 'w') as arq:\n",
        "  arq.write(text)"
      ]
    }
  ],
  "metadata": {
    "colab": {
      "provenance": [],
      "mount_file_id": "https://github.com/Jeferson-Peter/inSpeechSegmenter-AudioAnalysis/blob/master/AudioAnalysis.ipynb",
      "authorship_tag": "ABX9TyNTdl65EQ9ICpoplAh50d2F",
      "include_colab_link": true
    },
    "kernelspec": {
      "display_name": "Python 3",
      "name": "python3"
    },
    "language_info": {
      "name": "python"
    }
  },
  "nbformat": 4,
  "nbformat_minor": 0
}