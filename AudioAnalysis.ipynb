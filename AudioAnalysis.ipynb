{
  "cells": [
    {
      "cell_type": "markdown",
      "metadata": {
        "id": "view-in-github",
        "colab_type": "text"
      },
      "source": [
        "<a href=\"https://colab.research.google.com/github/Jeferson-Peter/inSpeechSegmenter-AudioAnalysis/blob/master/AudioAnalysis.ipynb\" target=\"_parent\"><img src=\"https://colab.research.google.com/assets/colab-badge.svg\" alt=\"Open In Colab\"/></a>"
      ]
    },
    {
      "cell_type": "code",
      "source": [
        "!pip install ffmpeg-python\n",
        "!sudo apt-get install -y ffmpeg \n",
        "!pip install pydub\n",
        "!pip install inaSpeechSegmenter\n",
        "!pip install pyAudioAnalysis\n",
        "!pip install eyed3\n",
        "!pip install hmmlearn"
      ],
      "metadata": {
        "id": "fNVuGwrMjrsb",
        "colab": {
          "base_uri": "https://localhost:8080/"
        },
        "outputId": "97ff07b8-a548-4356-9f43-c6019863df3b"
      },
      "execution_count": 1,
      "outputs": [
        {
          "output_type": "stream",
          "name": "stdout",
          "text": [
            "Looking in indexes: https://pypi.org/simple, https://us-python.pkg.dev/colab-wheels/public/simple/\n",
            "Requirement already satisfied: ffmpeg-python in /usr/local/lib/python3.7/dist-packages (0.2.0)\n",
            "Requirement already satisfied: future in /usr/local/lib/python3.7/dist-packages (from ffmpeg-python) (0.16.0)\n",
            "Reading package lists... Done\n",
            "Building dependency tree       \n",
            "Reading state information... Done\n",
            "ffmpeg is already the newest version (7:3.4.11-0ubuntu0.1).\n",
            "The following package was automatically installed and is no longer required:\n",
            "  libnvidia-common-460\n",
            "Use 'sudo apt autoremove' to remove it.\n",
            "0 upgraded, 0 newly installed, 0 to remove and 5 not upgraded.\n",
            "Looking in indexes: https://pypi.org/simple, https://us-python.pkg.dev/colab-wheels/public/simple/\n",
            "Requirement already satisfied: pydub in /usr/local/lib/python3.7/dist-packages (0.25.1)\n",
            "Looking in indexes: https://pypi.org/simple, https://us-python.pkg.dev/colab-wheels/public/simple/\n",
            "Requirement already satisfied: inaSpeechSegmenter in /usr/local/lib/python3.7/dist-packages (0.7.3)\n",
            "Requirement already satisfied: pyannote.core in /usr/local/lib/python3.7/dist-packages (from inaSpeechSegmenter) (4.5)\n",
            "Requirement already satisfied: pyannote.parser in /usr/local/lib/python3.7/dist-packages (from inaSpeechSegmenter) (0.8)\n",
            "Requirement already satisfied: pandas in /usr/local/lib/python3.7/dist-packages (from inaSpeechSegmenter) (1.3.5)\n",
            "Requirement already satisfied: scikit-image in /usr/local/lib/python3.7/dist-packages (from inaSpeechSegmenter) (0.18.3)\n",
            "Requirement already satisfied: pyannote.algorithms in /usr/local/lib/python3.7/dist-packages (from inaSpeechSegmenter) (0.8)\n",
            "Requirement already satisfied: Pyro4 in /usr/local/lib/python3.7/dist-packages (from inaSpeechSegmenter) (4.82)\n",
            "Requirement already satisfied: numpy in /usr/local/lib/python3.7/dist-packages (from inaSpeechSegmenter) (1.21.6)\n",
            "Requirement already satisfied: tensorflow in /usr/local/lib/python3.7/dist-packages (from inaSpeechSegmenter) (2.9.2)\n",
            "Requirement already satisfied: matplotlib in /usr/local/lib/python3.7/dist-packages (from inaSpeechSegmenter) (3.2.2)\n",
            "Requirement already satisfied: pytextgrid in /usr/local/lib/python3.7/dist-packages (from inaSpeechSegmenter) (0.1.4)\n",
            "Requirement already satisfied: soundfile in /usr/local/lib/python3.7/dist-packages (from inaSpeechSegmenter) (0.11.0)\n",
            "Requirement already satisfied: kiwisolver>=1.0.1 in /usr/local/lib/python3.7/dist-packages (from matplotlib->inaSpeechSegmenter) (1.4.4)\n",
            "Requirement already satisfied: python-dateutil>=2.1 in /usr/local/lib/python3.7/dist-packages (from matplotlib->inaSpeechSegmenter) (2.8.2)\n",
            "Requirement already satisfied: cycler>=0.10 in /usr/local/lib/python3.7/dist-packages (from matplotlib->inaSpeechSegmenter) (0.11.0)\n",
            "Requirement already satisfied: pyparsing!=2.0.4,!=2.1.2,!=2.1.6,>=2.0.1 in /usr/local/lib/python3.7/dist-packages (from matplotlib->inaSpeechSegmenter) (3.0.9)\n",
            "Requirement already satisfied: typing-extensions in /usr/local/lib/python3.7/dist-packages (from kiwisolver>=1.0.1->matplotlib->inaSpeechSegmenter) (4.1.1)\n",
            "Requirement already satisfied: six>=1.5 in /usr/local/lib/python3.7/dist-packages (from python-dateutil>=2.1->matplotlib->inaSpeechSegmenter) (1.16.0)\n",
            "Requirement already satisfied: pytz>=2017.3 in /usr/local/lib/python3.7/dist-packages (from pandas->inaSpeechSegmenter) (2022.6)\n",
            "Requirement already satisfied: networkx>=2.1 in /usr/local/lib/python3.7/dist-packages (from pyannote.algorithms->inaSpeechSegmenter) (2.6.3)\n",
            "Requirement already satisfied: docopt>=0.6.2 in /usr/local/lib/python3.7/dist-packages (from pyannote.algorithms->inaSpeechSegmenter) (0.6.2)\n",
            "Requirement already satisfied: joblib>=0.9.4 in /usr/local/lib/python3.7/dist-packages (from pyannote.algorithms->inaSpeechSegmenter) (1.2.0)\n",
            "Requirement already satisfied: scikit-learn>=0.17 in /usr/local/lib/python3.7/dist-packages (from pyannote.algorithms->inaSpeechSegmenter) (1.0.2)\n",
            "Requirement already satisfied: munkres>=1.0.7 in /usr/local/lib/python3.7/dist-packages (from pyannote.algorithms->inaSpeechSegmenter) (1.1.4)\n",
            "Requirement already satisfied: sortedcollections>=1.0.1 in /usr/local/lib/python3.7/dist-packages (from pyannote.algorithms->inaSpeechSegmenter) (2.1.0)\n",
            "Requirement already satisfied: xarray>=0.8.2 in /usr/local/lib/python3.7/dist-packages (from pyannote.algorithms->inaSpeechSegmenter) (0.20.2)\n",
            "Requirement already satisfied: scipy>=0.17.0 in /usr/local/lib/python3.7/dist-packages (from pyannote.algorithms->inaSpeechSegmenter) (1.7.3)\n",
            "Requirement already satisfied: simplejson>=3.8.1 in /usr/local/lib/python3.7/dist-packages (from pyannote.core->inaSpeechSegmenter) (3.18.0)\n",
            "Requirement already satisfied: sortedcontainers>=2.0.4 in /usr/local/lib/python3.7/dist-packages (from pyannote.core->inaSpeechSegmenter) (2.4.0)\n",
            "Requirement already satisfied: threadpoolctl>=2.0.0 in /usr/local/lib/python3.7/dist-packages (from scikit-learn>=0.17->pyannote.algorithms->inaSpeechSegmenter) (3.1.0)\n",
            "Requirement already satisfied: importlib-metadata in /usr/local/lib/python3.7/dist-packages (from xarray>=0.8.2->pyannote.algorithms->inaSpeechSegmenter) (4.13.0)\n",
            "Requirement already satisfied: zipp>=0.5 in /usr/local/lib/python3.7/dist-packages (from importlib-metadata->xarray>=0.8.2->pyannote.algorithms->inaSpeechSegmenter) (3.10.0)\n",
            "Requirement already satisfied: serpent>=1.27 in /usr/local/lib/python3.7/dist-packages (from Pyro4->inaSpeechSegmenter) (1.41)\n",
            "Requirement already satisfied: imageio>=2.3.0 in /usr/local/lib/python3.7/dist-packages (from scikit-image->inaSpeechSegmenter) (2.9.0)\n",
            "Requirement already satisfied: PyWavelets>=1.1.1 in /usr/local/lib/python3.7/dist-packages (from scikit-image->inaSpeechSegmenter) (1.3.0)\n",
            "Requirement already satisfied: pillow!=7.1.0,!=7.1.1,>=4.3.0 in /usr/local/lib/python3.7/dist-packages (from scikit-image->inaSpeechSegmenter) (7.1.2)\n",
            "Requirement already satisfied: tifffile>=2019.7.26 in /usr/local/lib/python3.7/dist-packages (from scikit-image->inaSpeechSegmenter) (2021.11.2)\n",
            "Requirement already satisfied: cffi>=1.0 in /usr/local/lib/python3.7/dist-packages (from soundfile->inaSpeechSegmenter) (1.15.1)\n",
            "Requirement already satisfied: pycparser in /usr/local/lib/python3.7/dist-packages (from cffi>=1.0->soundfile->inaSpeechSegmenter) (2.21)\n",
            "Requirement already satisfied: grpcio<2.0,>=1.24.3 in /usr/local/lib/python3.7/dist-packages (from tensorflow->inaSpeechSegmenter) (1.50.0)\n",
            "Requirement already satisfied: absl-py>=1.0.0 in /usr/local/lib/python3.7/dist-packages (from tensorflow->inaSpeechSegmenter) (1.3.0)\n",
            "Requirement already satisfied: gast<=0.4.0,>=0.2.1 in /usr/local/lib/python3.7/dist-packages (from tensorflow->inaSpeechSegmenter) (0.4.0)\n",
            "Requirement already satisfied: protobuf<3.20,>=3.9.2 in /usr/local/lib/python3.7/dist-packages (from tensorflow->inaSpeechSegmenter) (3.19.6)\n",
            "Requirement already satisfied: keras-preprocessing>=1.1.1 in /usr/local/lib/python3.7/dist-packages (from tensorflow->inaSpeechSegmenter) (1.1.2)\n",
            "Requirement already satisfied: tensorboard<2.10,>=2.9 in /usr/local/lib/python3.7/dist-packages (from tensorflow->inaSpeechSegmenter) (2.9.1)\n",
            "Requirement already satisfied: packaging in /usr/local/lib/python3.7/dist-packages (from tensorflow->inaSpeechSegmenter) (21.3)\n",
            "Requirement already satisfied: libclang>=13.0.0 in /usr/local/lib/python3.7/dist-packages (from tensorflow->inaSpeechSegmenter) (14.0.6)\n",
            "Requirement already satisfied: wrapt>=1.11.0 in /usr/local/lib/python3.7/dist-packages (from tensorflow->inaSpeechSegmenter) (1.14.1)\n",
            "Requirement already satisfied: opt-einsum>=2.3.2 in /usr/local/lib/python3.7/dist-packages (from tensorflow->inaSpeechSegmenter) (3.3.0)\n",
            "Requirement already satisfied: tensorflow-io-gcs-filesystem>=0.23.1 in /usr/local/lib/python3.7/dist-packages (from tensorflow->inaSpeechSegmenter) (0.27.0)\n",
            "Requirement already satisfied: tensorflow-estimator<2.10.0,>=2.9.0rc0 in /usr/local/lib/python3.7/dist-packages (from tensorflow->inaSpeechSegmenter) (2.9.0)\n",
            "Requirement already satisfied: h5py>=2.9.0 in /usr/local/lib/python3.7/dist-packages (from tensorflow->inaSpeechSegmenter) (3.1.0)\n",
            "Requirement already satisfied: setuptools in /usr/local/lib/python3.7/dist-packages (from tensorflow->inaSpeechSegmenter) (57.4.0)\n",
            "Requirement already satisfied: flatbuffers<2,>=1.12 in /usr/local/lib/python3.7/dist-packages (from tensorflow->inaSpeechSegmenter) (1.12)\n",
            "Requirement already satisfied: astunparse>=1.6.0 in /usr/local/lib/python3.7/dist-packages (from tensorflow->inaSpeechSegmenter) (1.6.3)\n",
            "Requirement already satisfied: google-pasta>=0.1.1 in /usr/local/lib/python3.7/dist-packages (from tensorflow->inaSpeechSegmenter) (0.2.0)\n",
            "Requirement already satisfied: termcolor>=1.1.0 in /usr/local/lib/python3.7/dist-packages (from tensorflow->inaSpeechSegmenter) (2.1.0)\n",
            "Requirement already satisfied: keras<2.10.0,>=2.9.0rc0 in /usr/local/lib/python3.7/dist-packages (from tensorflow->inaSpeechSegmenter) (2.9.0)\n",
            "Requirement already satisfied: wheel<1.0,>=0.23.0 in /usr/local/lib/python3.7/dist-packages (from astunparse>=1.6.0->tensorflow->inaSpeechSegmenter) (0.38.4)\n",
            "Requirement already satisfied: cached-property in /usr/local/lib/python3.7/dist-packages (from h5py>=2.9.0->tensorflow->inaSpeechSegmenter) (1.5.2)\n",
            "Requirement already satisfied: tensorboard-plugin-wit>=1.6.0 in /usr/local/lib/python3.7/dist-packages (from tensorboard<2.10,>=2.9->tensorflow->inaSpeechSegmenter) (1.8.1)\n",
            "Requirement already satisfied: tensorboard-data-server<0.7.0,>=0.6.0 in /usr/local/lib/python3.7/dist-packages (from tensorboard<2.10,>=2.9->tensorflow->inaSpeechSegmenter) (0.6.1)\n",
            "Requirement already satisfied: requests<3,>=2.21.0 in /usr/local/lib/python3.7/dist-packages (from tensorboard<2.10,>=2.9->tensorflow->inaSpeechSegmenter) (2.28.1)\n",
            "Requirement already satisfied: markdown>=2.6.8 in /usr/local/lib/python3.7/dist-packages (from tensorboard<2.10,>=2.9->tensorflow->inaSpeechSegmenter) (3.4.1)\n",
            "Requirement already satisfied: werkzeug>=1.0.1 in /usr/local/lib/python3.7/dist-packages (from tensorboard<2.10,>=2.9->tensorflow->inaSpeechSegmenter) (1.0.1)\n",
            "Requirement already satisfied: google-auth<3,>=1.6.3 in /usr/local/lib/python3.7/dist-packages (from tensorboard<2.10,>=2.9->tensorflow->inaSpeechSegmenter) (2.14.1)\n",
            "Requirement already satisfied: google-auth-oauthlib<0.5,>=0.4.1 in /usr/local/lib/python3.7/dist-packages (from tensorboard<2.10,>=2.9->tensorflow->inaSpeechSegmenter) (0.4.6)\n",
            "Requirement already satisfied: rsa<5,>=3.1.4 in /usr/local/lib/python3.7/dist-packages (from google-auth<3,>=1.6.3->tensorboard<2.10,>=2.9->tensorflow->inaSpeechSegmenter) (4.9)\n",
            "Requirement already satisfied: cachetools<6.0,>=2.0.0 in /usr/local/lib/python3.7/dist-packages (from google-auth<3,>=1.6.3->tensorboard<2.10,>=2.9->tensorflow->inaSpeechSegmenter) (5.2.0)\n",
            "Requirement already satisfied: pyasn1-modules>=0.2.1 in /usr/local/lib/python3.7/dist-packages (from google-auth<3,>=1.6.3->tensorboard<2.10,>=2.9->tensorflow->inaSpeechSegmenter) (0.2.8)\n",
            "Requirement already satisfied: requests-oauthlib>=0.7.0 in /usr/local/lib/python3.7/dist-packages (from google-auth-oauthlib<0.5,>=0.4.1->tensorboard<2.10,>=2.9->tensorflow->inaSpeechSegmenter) (1.3.1)\n",
            "Requirement already satisfied: pyasn1<0.5.0,>=0.4.6 in /usr/local/lib/python3.7/dist-packages (from pyasn1-modules>=0.2.1->google-auth<3,>=1.6.3->tensorboard<2.10,>=2.9->tensorflow->inaSpeechSegmenter) (0.4.8)\n",
            "Requirement already satisfied: charset-normalizer<3,>=2 in /usr/local/lib/python3.7/dist-packages (from requests<3,>=2.21.0->tensorboard<2.10,>=2.9->tensorflow->inaSpeechSegmenter) (2.1.1)\n",
            "Requirement already satisfied: urllib3<1.27,>=1.21.1 in /usr/local/lib/python3.7/dist-packages (from requests<3,>=2.21.0->tensorboard<2.10,>=2.9->tensorflow->inaSpeechSegmenter) (1.24.3)\n",
            "Requirement already satisfied: idna<4,>=2.5 in /usr/local/lib/python3.7/dist-packages (from requests<3,>=2.21.0->tensorboard<2.10,>=2.9->tensorflow->inaSpeechSegmenter) (2.10)\n",
            "Requirement already satisfied: certifi>=2017.4.17 in /usr/local/lib/python3.7/dist-packages (from requests<3,>=2.21.0->tensorboard<2.10,>=2.9->tensorflow->inaSpeechSegmenter) (2022.9.24)\n",
            "Requirement already satisfied: oauthlib>=3.0.0 in /usr/local/lib/python3.7/dist-packages (from requests-oauthlib>=0.7.0->google-auth-oauthlib<0.5,>=0.4.1->tensorboard<2.10,>=2.9->tensorflow->inaSpeechSegmenter) (3.2.2)\n",
            "Looking in indexes: https://pypi.org/simple, https://us-python.pkg.dev/colab-wheels/public/simple/\n",
            "Requirement already satisfied: pyAudioAnalysis in /usr/local/lib/python3.7/dist-packages (0.3.14)\n",
            "Looking in indexes: https://pypi.org/simple, https://us-python.pkg.dev/colab-wheels/public/simple/\n",
            "Requirement already satisfied: eyed3 in /usr/local/lib/python3.7/dist-packages (0.9.7)\n",
            "Requirement already satisfied: filetype<2.0.0,>=1.0.7 in /usr/local/lib/python3.7/dist-packages (from eyed3) (1.2.0)\n",
            "Requirement already satisfied: coverage[toml]<6.0.0,>=5.3.1 in /usr/local/lib/python3.7/dist-packages (from eyed3) (5.5)\n",
            "Requirement already satisfied: deprecation<3.0.0,>=2.1.0 in /usr/local/lib/python3.7/dist-packages (from eyed3) (2.1.0)\n",
            "Requirement already satisfied: toml in /usr/local/lib/python3.7/dist-packages (from coverage[toml]<6.0.0,>=5.3.1->eyed3) (0.10.2)\n",
            "Requirement already satisfied: packaging in /usr/local/lib/python3.7/dist-packages (from deprecation<3.0.0,>=2.1.0->eyed3) (21.3)\n",
            "Requirement already satisfied: pyparsing!=3.0.5,>=2.0.2 in /usr/local/lib/python3.7/dist-packages (from packaging->deprecation<3.0.0,>=2.1.0->eyed3) (3.0.9)\n",
            "Looking in indexes: https://pypi.org/simple, https://us-python.pkg.dev/colab-wheels/public/simple/\n",
            "Requirement already satisfied: hmmlearn in /usr/local/lib/python3.7/dist-packages (0.2.8)\n",
            "Requirement already satisfied: numpy>=1.10 in /usr/local/lib/python3.7/dist-packages (from hmmlearn) (1.21.6)\n",
            "Requirement already satisfied: scikit-learn>=0.16 in /usr/local/lib/python3.7/dist-packages (from hmmlearn) (1.0.2)\n",
            "Requirement already satisfied: scipy>=0.19 in /usr/local/lib/python3.7/dist-packages (from hmmlearn) (1.7.3)\n",
            "Requirement already satisfied: joblib>=0.11 in /usr/local/lib/python3.7/dist-packages (from scikit-learn>=0.16->hmmlearn) (1.2.0)\n",
            "Requirement already satisfied: threadpoolctl>=2.0.0 in /usr/local/lib/python3.7/dist-packages (from scikit-learn>=0.16->hmmlearn) (3.1.0)\n"
          ]
        }
      ]
    },
    {
      "cell_type": "code",
      "execution_count": 2,
      "metadata": {
        "id": "CYxxCnhHuwlR"
      },
      "outputs": [],
      "source": [
        "from pyAudioAnalysis import ShortTermFeatures as aF\n",
        "from pyAudioAnalysis import audioBasicIO \n",
        "import numpy as np \n",
        "import plotly.graph_objs as go \n",
        "import plotly\n",
        "import IPython\n",
        "from pyAudioAnalysis import audioSegmentation as aS\n",
        "# Load the API\n",
        "from inaSpeechSegmenter import Segmenter\n",
        "from inaSpeechSegmenter.export_funcs import seg2csv, seg2textgrid\n",
        "from pydub import AudioSegment\n"
      ]
    },
    {
      "cell_type": "code",
      "execution_count": 3,
      "metadata": {
        "id": "ZoOKC_KDwGmz"
      },
      "outputs": [],
      "source": [
        "# read audio data from file \n",
        "# (returns sampling freq and signal as a numpy array)\n",
        "fs, s = audioBasicIO.read_audio_file(\"18copy.wav\")"
      ]
    },
    {
      "cell_type": "code",
      "execution_count": 4,
      "metadata": {
        "id": "O_FSFybJySVL"
      },
      "outputs": [],
      "source": [
        "IPython.display.display(IPython.display.Audio(\"18copy.wav\"))"
      ]
    },
    {
      "cell_type": "code",
      "execution_count": 5,
      "metadata": {
        "id": "Su3-K1fGxPb2"
      },
      "outputs": [],
      "source": [
        "# print duration in seconds:\n",
        "duration = len(s) / float(fs)\n",
        "print(f'duration = {duration} seconds')"
      ]
    },
    {
      "cell_type": "code",
      "execution_count": 19,
      "metadata": {
        "id": "cmdDlct7yjbm"
      },
      "outputs": [],
      "source": [
        "# extract short-term features using a 50msec non-overlapping windows\n",
        "win, step = 0.070, 0.070\n",
        "[f, fn] = aF.feature_extraction(s, fs, int(fs * win), \n",
        "                                int(fs * step))"
      ]
    },
    {
      "cell_type": "code",
      "source": [
        "input_media = '18copy.wav'\n",
        "output_media = '18copy_cleaned.wav'\n",
        "output_path = 'audios_extracted'"
      ],
      "metadata": {
        "id": "KJwOHoPxDR3i"
      },
      "execution_count": 20,
      "outputs": []
    },
    {
      "cell_type": "code",
      "source": [
        "seg = Segmenter()\n",
        "segmentation = seg(input_media)"
      ],
      "metadata": {
        "colab": {
          "base_uri": "https://localhost:8080/"
        },
        "id": "jkjTRf44D2T5",
        "outputId": "e0bacd62-88b6-4969-c78c-7803ac6b171e"
      },
      "execution_count": 21,
      "outputs": [
        {
          "output_type": "stream",
          "name": "stderr",
          "text": [
            "/usr/local/lib/python3.7/dist-packages/pyAudioAnalysis/../pyannote/algorithms/utils/viterbi.py:88: FutureWarning: arrays to stack must be passed as a \"sequence\" type such as list or tuple. Support for non-sequence iterables such as generators is deprecated as of NumPy 1.16 and will raise an error in the future.\n",
            "  for e, c in six.moves.zip(emission.T, consecutive)\n",
            "/usr/local/lib/python3.7/dist-packages/pyAudioAnalysis/../pyannote/algorithms/utils/viterbi.py:97: FutureWarning: arrays to stack must be passed as a \"sequence\" type such as list or tuple. Support for non-sequence iterables such as generators is deprecated as of NumPy 1.16 and will raise an error in the future.\n",
            "  for e, c in six.moves.zip(constraint.T, consecutive)\n",
            "/usr/local/lib/python3.7/dist-packages/pyAudioAnalysis/../inaSpeechSegmenter/segmenter.py:61: RuntimeWarning: invalid value encountered in subtract\n",
            "  data = (data - np.mean(data, axis=1).reshape((len(data), 1))) / np.std(data, axis=1).reshape((len(data), 1))\n",
            "/usr/local/lib/python3.7/dist-packages/numpy/core/_methods.py:230: RuntimeWarning: invalid value encountered in subtract\n",
            "  x = asanyarray(arr - arrmean)\n"
          ]
        },
        {
          "output_type": "stream",
          "name": "stdout",
          "text": [
            "970/970 [==============================] - 43s 44ms/step\n",
            "719/719 [==============================] - 149s 207ms/step\n"
          ]
        }
      ]
    },
    {
      "cell_type": "code",
      "source": [
        "print(segmentation)"
      ],
      "metadata": {
        "colab": {
          "base_uri": "https://localhost:8080/"
        },
        "id": "Rjnh3vt5EcOe",
        "outputId": "0889f387-7729-4f7c-e02e-47ba1764c8eb"
      },
      "execution_count": 23,
      "outputs": [
        {
          "output_type": "stream",
          "name": "stdout",
          "text": [
            "[('female', 0.0, 1.46), ('noEnergy', 1.46, 2.56), ('male', 2.56, 49.9), ('noise', 49.9, 70.62), ('male', 70.62, 84.16), ('noise', 84.16, 90.66), ('male', 90.66, 104.68), ('noise', 104.68, 107.4), ('male', 107.4, 109.92), ('noise', 109.92, 137.8), ('male', 137.8, 160.44), ('noise', 160.44, 164.12), ('male', 164.12, 168.64000000000001), ('noise', 168.64000000000001, 190.44), ('male', 190.44, 240.08), ('noise', 240.08, 241.82), ('male', 241.82, 252.48000000000002), ('noise', 252.48000000000002, 255.66), ('male', 255.66, 270.42), ('noise', 270.42, 294.64), ('male', 294.64, 333.7), ('noise', 333.7, 335.76), ('male', 335.76, 338.28000000000003), ('noise', 338.28000000000003, 340.86), ('male', 340.86, 348.3), ('noise', 348.3, 360.74), ('male', 360.74, 376.96), ('noise', 376.96, 379.76), ('male', 379.76, 381.16), ('noise', 381.16, 386.62), ('male', 386.62, 433.54), ('noise', 433.54, 438.16), ('male', 438.16, 485.02), ('noise', 485.02, 488.56), ('male', 488.56, 494.02000000000004), ('noise', 494.02000000000004, 498.76), ('male', 498.76, 537.6800000000001), ('noise', 537.6800000000001, 539.76), ('male', 539.76, 549.38), ('noise', 549.38, 553.9), ('male', 553.9, 582.78), ('noise', 582.78, 584.28), ('male', 584.28, 587.88), ('noise', 587.88, 589.24), ('male', 589.24, 621.32), ('noEnergy', 621.32, 621.7)]\n"
          ]
        }
      ]
    },
    {
      "cell_type": "code",
      "source": [
        "seg2csv(segmentation, 'myseg.csv')\n",
        "# Here is the resulting CSV\n",
        "# !cat myseg.csv"
      ],
      "metadata": {
        "id": "-58vAQ77FlBJ"
      },
      "execution_count": 22,
      "outputs": []
    },
    {
      "cell_type": "code",
      "source": [
        "import pandas as pd\n",
        "df = pd.read_csv('myseg.csv', sep='\\t')\n",
        "df = df[(df['labels'] != 'noEnergy' ) & (df['labels'] != 'noise')]\n",
        "df = df.reset_index(drop=True)\n",
        "display(df)"
      ],
      "metadata": {
        "colab": {
          "base_uri": "https://localhost:8080/",
          "height": 770
        },
        "id": "I-4pU7dsFmux",
        "outputId": "1125fa83-5ec3-4b84-f2ea-2f1ebba3bc9d"
      },
      "execution_count": 24,
      "outputs": [
        {
          "output_type": "display_data",
          "data": {
            "text/plain": [
              "    labels   start    stop\n",
              "0   female    0.00    1.46\n",
              "1     male    2.56   49.90\n",
              "2     male   70.62   84.16\n",
              "3     male   90.66  104.68\n",
              "4     male  107.40  109.92\n",
              "5     male  137.80  160.44\n",
              "6     male  164.12  168.64\n",
              "7     male  190.44  240.08\n",
              "8     male  241.82  252.48\n",
              "9     male  255.66  270.42\n",
              "10    male  294.64  333.70\n",
              "11    male  335.76  338.28\n",
              "12    male  340.86  348.30\n",
              "13    male  360.74  376.96\n",
              "14    male  379.76  381.16\n",
              "15    male  386.62  433.54\n",
              "16    male  438.16  485.02\n",
              "17    male  488.56  494.02\n",
              "18    male  498.76  537.68\n",
              "19    male  539.76  549.38\n",
              "20    male  553.90  582.78\n",
              "21    male  584.28  587.88\n",
              "22    male  589.24  621.32"
            ],
            "text/html": [
              "\n",
              "  <div id=\"df-fdfa6bdd-ce5b-4432-a748-30bcacfe7892\">\n",
              "    <div class=\"colab-df-container\">\n",
              "      <div>\n",
              "<style scoped>\n",
              "    .dataframe tbody tr th:only-of-type {\n",
              "        vertical-align: middle;\n",
              "    }\n",
              "\n",
              "    .dataframe tbody tr th {\n",
              "        vertical-align: top;\n",
              "    }\n",
              "\n",
              "    .dataframe thead th {\n",
              "        text-align: right;\n",
              "    }\n",
              "</style>\n",
              "<table border=\"1\" class=\"dataframe\">\n",
              "  <thead>\n",
              "    <tr style=\"text-align: right;\">\n",
              "      <th></th>\n",
              "      <th>labels</th>\n",
              "      <th>start</th>\n",
              "      <th>stop</th>\n",
              "    </tr>\n",
              "  </thead>\n",
              "  <tbody>\n",
              "    <tr>\n",
              "      <th>0</th>\n",
              "      <td>female</td>\n",
              "      <td>0.00</td>\n",
              "      <td>1.46</td>\n",
              "    </tr>\n",
              "    <tr>\n",
              "      <th>1</th>\n",
              "      <td>male</td>\n",
              "      <td>2.56</td>\n",
              "      <td>49.90</td>\n",
              "    </tr>\n",
              "    <tr>\n",
              "      <th>2</th>\n",
              "      <td>male</td>\n",
              "      <td>70.62</td>\n",
              "      <td>84.16</td>\n",
              "    </tr>\n",
              "    <tr>\n",
              "      <th>3</th>\n",
              "      <td>male</td>\n",
              "      <td>90.66</td>\n",
              "      <td>104.68</td>\n",
              "    </tr>\n",
              "    <tr>\n",
              "      <th>4</th>\n",
              "      <td>male</td>\n",
              "      <td>107.40</td>\n",
              "      <td>109.92</td>\n",
              "    </tr>\n",
              "    <tr>\n",
              "      <th>5</th>\n",
              "      <td>male</td>\n",
              "      <td>137.80</td>\n",
              "      <td>160.44</td>\n",
              "    </tr>\n",
              "    <tr>\n",
              "      <th>6</th>\n",
              "      <td>male</td>\n",
              "      <td>164.12</td>\n",
              "      <td>168.64</td>\n",
              "    </tr>\n",
              "    <tr>\n",
              "      <th>7</th>\n",
              "      <td>male</td>\n",
              "      <td>190.44</td>\n",
              "      <td>240.08</td>\n",
              "    </tr>\n",
              "    <tr>\n",
              "      <th>8</th>\n",
              "      <td>male</td>\n",
              "      <td>241.82</td>\n",
              "      <td>252.48</td>\n",
              "    </tr>\n",
              "    <tr>\n",
              "      <th>9</th>\n",
              "      <td>male</td>\n",
              "      <td>255.66</td>\n",
              "      <td>270.42</td>\n",
              "    </tr>\n",
              "    <tr>\n",
              "      <th>10</th>\n",
              "      <td>male</td>\n",
              "      <td>294.64</td>\n",
              "      <td>333.70</td>\n",
              "    </tr>\n",
              "    <tr>\n",
              "      <th>11</th>\n",
              "      <td>male</td>\n",
              "      <td>335.76</td>\n",
              "      <td>338.28</td>\n",
              "    </tr>\n",
              "    <tr>\n",
              "      <th>12</th>\n",
              "      <td>male</td>\n",
              "      <td>340.86</td>\n",
              "      <td>348.30</td>\n",
              "    </tr>\n",
              "    <tr>\n",
              "      <th>13</th>\n",
              "      <td>male</td>\n",
              "      <td>360.74</td>\n",
              "      <td>376.96</td>\n",
              "    </tr>\n",
              "    <tr>\n",
              "      <th>14</th>\n",
              "      <td>male</td>\n",
              "      <td>379.76</td>\n",
              "      <td>381.16</td>\n",
              "    </tr>\n",
              "    <tr>\n",
              "      <th>15</th>\n",
              "      <td>male</td>\n",
              "      <td>386.62</td>\n",
              "      <td>433.54</td>\n",
              "    </tr>\n",
              "    <tr>\n",
              "      <th>16</th>\n",
              "      <td>male</td>\n",
              "      <td>438.16</td>\n",
              "      <td>485.02</td>\n",
              "    </tr>\n",
              "    <tr>\n",
              "      <th>17</th>\n",
              "      <td>male</td>\n",
              "      <td>488.56</td>\n",
              "      <td>494.02</td>\n",
              "    </tr>\n",
              "    <tr>\n",
              "      <th>18</th>\n",
              "      <td>male</td>\n",
              "      <td>498.76</td>\n",
              "      <td>537.68</td>\n",
              "    </tr>\n",
              "    <tr>\n",
              "      <th>19</th>\n",
              "      <td>male</td>\n",
              "      <td>539.76</td>\n",
              "      <td>549.38</td>\n",
              "    </tr>\n",
              "    <tr>\n",
              "      <th>20</th>\n",
              "      <td>male</td>\n",
              "      <td>553.90</td>\n",
              "      <td>582.78</td>\n",
              "    </tr>\n",
              "    <tr>\n",
              "      <th>21</th>\n",
              "      <td>male</td>\n",
              "      <td>584.28</td>\n",
              "      <td>587.88</td>\n",
              "    </tr>\n",
              "    <tr>\n",
              "      <th>22</th>\n",
              "      <td>male</td>\n",
              "      <td>589.24</td>\n",
              "      <td>621.32</td>\n",
              "    </tr>\n",
              "  </tbody>\n",
              "</table>\n",
              "</div>\n",
              "      <button class=\"colab-df-convert\" onclick=\"convertToInteractive('df-fdfa6bdd-ce5b-4432-a748-30bcacfe7892')\"\n",
              "              title=\"Convert this dataframe to an interactive table.\"\n",
              "              style=\"display:none;\">\n",
              "        \n",
              "  <svg xmlns=\"http://www.w3.org/2000/svg\" height=\"24px\"viewBox=\"0 0 24 24\"\n",
              "       width=\"24px\">\n",
              "    <path d=\"M0 0h24v24H0V0z\" fill=\"none\"/>\n",
              "    <path d=\"M18.56 5.44l.94 2.06.94-2.06 2.06-.94-2.06-.94-.94-2.06-.94 2.06-2.06.94zm-11 1L8.5 8.5l.94-2.06 2.06-.94-2.06-.94L8.5 2.5l-.94 2.06-2.06.94zm10 10l.94 2.06.94-2.06 2.06-.94-2.06-.94-.94-2.06-.94 2.06-2.06.94z\"/><path d=\"M17.41 7.96l-1.37-1.37c-.4-.4-.92-.59-1.43-.59-.52 0-1.04.2-1.43.59L10.3 9.45l-7.72 7.72c-.78.78-.78 2.05 0 2.83L4 21.41c.39.39.9.59 1.41.59.51 0 1.02-.2 1.41-.59l7.78-7.78 2.81-2.81c.8-.78.8-2.07 0-2.86zM5.41 20L4 18.59l7.72-7.72 1.47 1.35L5.41 20z\"/>\n",
              "  </svg>\n",
              "      </button>\n",
              "      \n",
              "  <style>\n",
              "    .colab-df-container {\n",
              "      display:flex;\n",
              "      flex-wrap:wrap;\n",
              "      gap: 12px;\n",
              "    }\n",
              "\n",
              "    .colab-df-convert {\n",
              "      background-color: #E8F0FE;\n",
              "      border: none;\n",
              "      border-radius: 50%;\n",
              "      cursor: pointer;\n",
              "      display: none;\n",
              "      fill: #1967D2;\n",
              "      height: 32px;\n",
              "      padding: 0 0 0 0;\n",
              "      width: 32px;\n",
              "    }\n",
              "\n",
              "    .colab-df-convert:hover {\n",
              "      background-color: #E2EBFA;\n",
              "      box-shadow: 0px 1px 2px rgba(60, 64, 67, 0.3), 0px 1px 3px 1px rgba(60, 64, 67, 0.15);\n",
              "      fill: #174EA6;\n",
              "    }\n",
              "\n",
              "    [theme=dark] .colab-df-convert {\n",
              "      background-color: #3B4455;\n",
              "      fill: #D2E3FC;\n",
              "    }\n",
              "\n",
              "    [theme=dark] .colab-df-convert:hover {\n",
              "      background-color: #434B5C;\n",
              "      box-shadow: 0px 1px 3px 1px rgba(0, 0, 0, 0.15);\n",
              "      filter: drop-shadow(0px 1px 2px rgba(0, 0, 0, 0.3));\n",
              "      fill: #FFFFFF;\n",
              "    }\n",
              "  </style>\n",
              "\n",
              "      <script>\n",
              "        const buttonEl =\n",
              "          document.querySelector('#df-fdfa6bdd-ce5b-4432-a748-30bcacfe7892 button.colab-df-convert');\n",
              "        buttonEl.style.display =\n",
              "          google.colab.kernel.accessAllowed ? 'block' : 'none';\n",
              "\n",
              "        async function convertToInteractive(key) {\n",
              "          const element = document.querySelector('#df-fdfa6bdd-ce5b-4432-a748-30bcacfe7892');\n",
              "          const dataTable =\n",
              "            await google.colab.kernel.invokeFunction('convertToInteractive',\n",
              "                                                     [key], {});\n",
              "          if (!dataTable) return;\n",
              "\n",
              "          const docLinkHtml = 'Like what you see? Visit the ' +\n",
              "            '<a target=\"_blank\" href=https://colab.research.google.com/notebooks/data_table.ipynb>data table notebook</a>'\n",
              "            + ' to learn more about interactive tables.';\n",
              "          element.innerHTML = '';\n",
              "          dataTable['output_type'] = 'display_data';\n",
              "          await google.colab.output.renderOutput(dataTable, element);\n",
              "          const docLink = document.createElement('div');\n",
              "          docLink.innerHTML = docLinkHtml;\n",
              "          element.appendChild(docLink);\n",
              "        }\n",
              "      </script>\n",
              "    </div>\n",
              "  </div>\n",
              "  "
            ]
          },
          "metadata": {}
        }
      ]
    },
    {
      "cell_type": "code",
      "source": [
        "from pydub import AudioSegment\n",
        "def cut_audio_from_wav(input_path, file_name, start, end, output_path, output_file):\n",
        "  startSec = start*1000\n",
        "  endSec = end*1000\n",
        "  # Opening file and extracting segment\n",
        "  song = AudioSegment.from_wav(input_path + file_name)\n",
        "  extract = song[startSec:endSec]\n",
        "  # Saving\n",
        "  extract.export(f\"{output_path}/{output_file}\", format=\"wav\")\n",
        "\n",
        "with open('extract_audios.txt', 'w', encoding='utf-8') as  arq:\n",
        "  total_lines = df.shape[0] -1\n",
        "  for index, row in df.iterrows():\n",
        "    try:\n",
        "      \n",
        "      output_file = f\"_18copy_{index}.wav\"\n",
        "      cut_audio_from_wav('', '18copy.wav', row['start'], row['stop'],output_path, output_file)\n",
        "      if index == total_lines:\n",
        "        arq.write(f\"file '{output_path}/{output_file}'\")\n",
        "      else:\n",
        "        arq.write(f\"file '{output_path}/{output_file}'\\n\")\n",
        "    except Exception as e:\n",
        "      print(e)\n",
        "\n"
      ],
      "metadata": {
        "id": "NYb-70UiGR9-"
      },
      "execution_count": null,
      "outputs": []
    },
    {
      "cell_type": "code",
      "source": [
        "import subprocess\n",
        "txt_full_directory='extract_audios.txt'\n",
        "\n",
        "# cmdargs = \"ffmpeg -f concat -safe 0 -i \" + txt_full_directory + \" -c copy \" + f\"{output_media}\"\n",
        "cmd_args = f\"ffmpeg -f concat -safe 0 -i {txt_full_directory} -c copy {output_media}\"\n",
        "# subprocess.run() will allow the process to end before creating a new one\n",
        "try:\n",
        "  subprocess.run(cmd_args, check=True, shell=True)\n",
        "  print(f\"File {output_media} successfully created\")\n",
        "except Exception as e:\n",
        "  print(e)"
      ],
      "metadata": {
        "id": "8sE7RkB7fvj1"
      },
      "execution_count": null,
      "outputs": []
    },
    {
      "cell_type": "code",
      "source": [
        "!pip install SpeechRecognition\n",
        "!pip install moviepy"
      ],
      "metadata": {
        "id": "-vwEIDScuwDr"
      },
      "execution_count": null,
      "outputs": []
    },
    {
      "cell_type": "code",
      "source": [
        "import speech_recognition as sr\n",
        "import sys\n",
        "from pydub import AudioSegment"
      ],
      "metadata": {
        "id": "d4N-Qj6Nu1YJ"
      },
      "execution_count": null,
      "outputs": []
    },
    {
      "cell_type": "code",
      "source": [
        "r = sr.Recognizer()\n",
        "with sr.AudioFile(output_media) as source:\n",
        "   audio_text = r.record(source)\n",
        "   print(audio_text)\n",
        "   text = r.recognize_google(audio_text,language='pt-BR')"
      ],
      "metadata": {
        "id": "lWxO0bkBvB0_"
      },
      "execution_count": null,
      "outputs": []
    },
    {
      "cell_type": "code",
      "source": [
        "text"
      ],
      "metadata": {
        "id": "-rOWxfcqvVrr"
      },
      "execution_count": null,
      "outputs": []
    },
    {
      "cell_type": "code",
      "source": [
        "with open(f'{output_media}_trancribed.txt', 'w') as arq:\n",
        "  arq.write(text)"
      ],
      "metadata": {
        "id": "uLlgnAzDvHXJ"
      },
      "execution_count": null,
      "outputs": []
    }
  ],
  "metadata": {
    "colab": {
      "provenance": [],
      "authorship_tag": "ABX9TyMb8G+vX08b0EH0H+heYxjx",
      "include_colab_link": true
    },
    "kernelspec": {
      "display_name": "Python 3",
      "name": "python3"
    },
    "language_info": {
      "name": "python"
    }
  },
  "nbformat": 4,
  "nbformat_minor": 0
}